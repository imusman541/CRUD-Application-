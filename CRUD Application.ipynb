{
 "cells": [
  {
   "cell_type": "code",
   "execution_count": 1,
   "id": "remarkable-immunology",
   "metadata": {},
   "outputs": [
    {
     "name": "stdout",
     "output_type": "stream",
     "text": [
      "Collecting psycopg2\n",
      "  Downloading psycopg2-2.8.6-cp38-cp38-win_amd64.whl (1.1 MB)\n",
      "Installing collected packages: psycopg2\n",
      "Successfully installed psycopg2-2.8.6\n",
      "Note: you may need to restart the kernel to use updated packages.\n"
     ]
    }
   ],
   "source": [
    "pip install psycopg2"
   ]
  },
  {
   "cell_type": "code",
   "execution_count": 12,
   "id": "stone-drawing",
   "metadata": {},
   "outputs": [],
   "source": [
    "import psycopg2 # use to integrate PostgreSQL with python\n",
    "\n",
    "database_name = \"postgres\"\n",
    "user_name = \"postgres\"\n",
    "password = \"usman\"\n",
    "host_ip = \"127.0.0.1\"\n",
    "host_port =\"5432\"\n",
    "\n",
    "my_con = psycopg2.connect(   # making a connection with the database\n",
    "            database = database_name,\n",
    "            user = user_name,\n",
    "            password = password,\n",
    "            host = host_ip,\n",
    "            port = host_port\n",
    ")\n",
    "\n",
    "my_con.autocommit = True # you don't have to commit your queries again&again after executing them\n",
    "cursor = my_con.cursor() # using this object, we will execute the SQL queries"
   ]
  },
  {
   "cell_type": "markdown",
   "id": "burning-construction",
   "metadata": {},
   "source": [
    "### Creating the DataBase"
   ]
  },
  {
   "cell_type": "code",
   "execution_count": 13,
   "id": "trained-mentor",
   "metadata": {},
   "outputs": [
    {
     "ename": "DuplicateDatabase",
     "evalue": "database \"car_db\" already exists\n",
     "output_type": "error",
     "traceback": [
      "\u001b[1;31m---------------------------------------------------------------------------\u001b[0m",
      "\u001b[1;31mDuplicateDatabase\u001b[0m                         Traceback (most recent call last)",
      "\u001b[1;32m<ipython-input-13-ce9cc608311a>\u001b[0m in \u001b[0;36m<module>\u001b[1;34m\u001b[0m\n\u001b[0;32m      1\u001b[0m \u001b[0mquery\u001b[0m \u001b[1;33m=\u001b[0m \u001b[1;34m\"CREATE DATABASE car_db\"\u001b[0m\u001b[1;33m\u001b[0m\u001b[1;33m\u001b[0m\u001b[0m\n\u001b[1;32m----> 2\u001b[1;33m \u001b[0mcursor\u001b[0m\u001b[1;33m.\u001b[0m\u001b[0mexecute\u001b[0m\u001b[1;33m(\u001b[0m\u001b[0mquery\u001b[0m\u001b[1;33m)\u001b[0m\u001b[1;33m\u001b[0m\u001b[1;33m\u001b[0m\u001b[0m\n\u001b[0m\u001b[0;32m      3\u001b[0m \u001b[1;33m\u001b[0m\u001b[0m\n\u001b[0;32m      4\u001b[0m \u001b[0mdatabase_name\u001b[0m \u001b[1;33m=\u001b[0m \u001b[1;34m\"car_db\"\u001b[0m\u001b[1;33m\u001b[0m\u001b[1;33m\u001b[0m\u001b[0m\n\u001b[0;32m      5\u001b[0m \u001b[0muser_name\u001b[0m \u001b[1;33m=\u001b[0m \u001b[1;34m\"postgres\"\u001b[0m\u001b[1;33m\u001b[0m\u001b[1;33m\u001b[0m\u001b[0m\n",
      "\u001b[1;31mDuplicateDatabase\u001b[0m: database \"car_db\" already exists\n"
     ]
    }
   ],
   "source": [
    "query = \"CREATE DATABASE car_db\"\n",
    "cursor.execute(query)"
   ]
  },
  {
   "cell_type": "code",
   "execution_count": 16,
   "id": "altered-following",
   "metadata": {},
   "outputs": [],
   "source": [
    "database_name = \"car_db\"\n",
    "user_name = \"postgres\"\n",
    "password = \"usman\"\n",
    "host_ip = \"127.0.0.1\"\n",
    "host_port =\"5432\"\n",
    "\n",
    "my_db_con = psycopg2.connect(\n",
    "            database = database_name,\n",
    "            user = user_name,\n",
    "            password = password,\n",
    "            host = host_ip,\n",
    "            port = host_port\n",
    ")"
   ]
  },
  {
   "cell_type": "markdown",
   "id": "polish-translator",
   "metadata": {},
   "source": [
    "### Creating the Table"
   ]
  },
  {
   "cell_type": "code",
   "execution_count": 35,
   "id": "subjective-archive",
   "metadata": {},
   "outputs": [],
   "source": [
    "creating_table = \"\"\"\n",
    "CREATE TABLE cars (\n",
    "id SERIAL PRIMARY KEY,\n",
    "name Char(50) NOT NULL,\n",
    "model INT,\n",
    "number Char(50),\n",
    "color Char(50),\n",
    "company Char(50)\n",
    ")\n",
    "\"\"\"\n",
    "my_db_con.autocommit = True\n",
    "cursor = my_db_con.cursor()\n",
    "cursor.execute(creating_table)"
   ]
  },
  {
   "cell_type": "markdown",
   "id": "handled-secondary",
   "metadata": {},
   "source": [
    "### Inserting data in the Table"
   ]
  },
  {
   "cell_type": "code",
   "execution_count": 45,
   "id": "regulated-valley",
   "metadata": {},
   "outputs": [],
   "source": [
    "cars = [\n",
    "    (\"xli\", 2017, \"ABC1\", \"Red\", \"corola\"),\n",
    "    (\"700s\", 2018, \"ABC2\", \"Black\", \"BMW\"),\n",
    "    (\"civic\", 2019, \"ABC3\", \"White\", \"Honda\"),\n",
    "    (\"3S\", 2020, \"ABC4\", \"Purple\", \"Mercedez\"), # List of tuples\n",
    "    (\"Mehran\", 2021, \"ABC5\", \"Yellow\", \"Suzuki\"),\n",
    "]\n",
    "car_records = \", \".join([\"%s\"] * len(cars))\n",
    "insert_query = (\n",
    "    f\"INSERT INTO cars (name, model, number, color, company) VALUES {car_records}\"\n",
    ")\n",
    "cursor.execute(insert_query, cars)"
   ]
  },
  {
   "cell_type": "markdown",
   "id": "operational-columbia",
   "metadata": {},
   "source": [
    "### Reading the Data"
   ]
  },
  {
   "cell_type": "code",
   "execution_count": 46,
   "id": "banned-williams",
   "metadata": {},
   "outputs": [
    {
     "name": "stdout",
     "output_type": "stream",
     "text": [
      "(1, 'xli                                               ', 2017, 'ABC1                                              ', 'Red                                               ', 'corola                                            ')\n",
      "(2, '700s                                              ', 2018, 'ABC2                                              ', 'Black                                             ', 'BMW                                               ')\n",
      "(3, 'civic                                             ', 2019, 'ABC3                                              ', 'Blue                                              ', 'Honda                                             ')\n",
      "(4, '3S                                                ', 2020, 'ABC4                                              ', 'Blue                                              ', 'Mercedez                                          ')\n",
      "(5, 'Mehran                                            ', 2021, 'ABC5                                              ', 'Blue                                              ', 'Suzuki                                            ')\n",
      "(6, 'xli                                               ', 2017, 'ABC1                                              ', 'Red                                               ', 'corola                                            ')\n",
      "(7, '700s                                              ', 2018, 'ABC2                                              ', 'Black                                             ', 'BMW                                               ')\n",
      "(8, 'civic                                             ', 2019, 'ABC3                                              ', 'White                                             ', 'Honda                                             ')\n",
      "(9, '3S                                                ', 2020, 'ABC4                                              ', 'Purple                                            ', 'Mercedez                                          ')\n",
      "(10, 'Mehran                                            ', 2021, 'ABC5                                              ', 'Yellow                                            ', 'Suzuki                                            ')\n"
     ]
    }
   ],
   "source": [
    "select_cars = \"SELECT * FROM cars\"\n",
    "cursor.execute(select_cars)\n",
    "\n",
    "cars = cursor.fetchall()\n",
    "\n",
    "for car in cars:\n",
    "    print(car)"
   ]
  },
  {
   "cell_type": "markdown",
   "id": "photographic-sequence",
   "metadata": {},
   "source": [
    "### Updating the Data"
   ]
  },
  {
   "cell_type": "code",
   "execution_count": 49,
   "id": "geological-watershed",
   "metadata": {},
   "outputs": [
    {
     "name": "stdout",
     "output_type": "stream",
     "text": [
      "(1, 'xli                                               ', 2017, 'ABC1                                              ', 'Red                                               ', 'corola                                            ')\n",
      "(2, '700s                                              ', 2018, 'ABC2                                              ', 'Black                                             ', 'BMW                                               ')\n",
      "(3, 'civic                                             ', 2019, 'ABC3                                              ', 'Blue                                              ', 'Honda                                             ')\n",
      "(4, '3S                                                ', 2020, 'ABC4                                              ', 'Blue                                              ', 'Mercedez                                          ')\n",
      "(5, 'Mehran                                            ', 2021, 'ABC5                                              ', 'Blue                                              ', 'Suzuki                                            ')\n"
     ]
    }
   ],
   "source": [
    "update_car = \"\"\"\n",
    "UPDATE cars\n",
    "SET color = 'Blue'\n",
    "WHERE\n",
    "model >= 2019\n",
    "\"\"\"\n",
    "\n",
    "cursor.execute(update_car)\n",
    "cursor.execute(select_cars)\n",
    "cars = cursor.fetchall()\n",
    "\n",
    "for car in cars:\n",
    "    print(car)"
   ]
  },
  {
   "cell_type": "markdown",
   "id": "immune-banks",
   "metadata": {},
   "source": [
    "### Deleting the Data"
   ]
  },
  {
   "cell_type": "code",
   "execution_count": 51,
   "id": "ruled-mobile",
   "metadata": {},
   "outputs": [
    {
     "name": "stdout",
     "output_type": "stream",
     "text": [
      "(1, 'xli                                               ', 2017, 'ABC1                                              ', 'Red                                               ', 'corola                                            ')\n",
      "(2, '700s                                              ', 2018, 'ABC2                                              ', 'Black                                             ', 'BMW                                               ')\n",
      "(4, '3S                                                ', 2020, 'ABC4                                              ', 'Blue                                              ', 'Mercedez                                          ')\n",
      "(5, 'Mehran                                            ', 2021, 'ABC5                                              ', 'Blue                                              ', 'Suzuki                                            ')\n"
     ]
    }
   ],
   "source": [
    "delete_car = \"DELETE FROM cars WHERE model = 2019\"\n",
    "cursor.execute(delete_car)\n",
    "\n",
    "cursor.execute(select_cars)\n",
    "cars = cursor.fetchall()\n",
    "\n",
    "for car in cars:\n",
    "    print(car)"
   ]
  },
  {
   "cell_type": "code",
   "execution_count": null,
   "id": "sufficient-alexander",
   "metadata": {},
   "outputs": [],
   "source": []
  }
 ],
 "metadata": {
  "kernelspec": {
   "display_name": "Python 3",
   "language": "python",
   "name": "python3"
  },
  "language_info": {
   "codemirror_mode": {
    "name": "ipython",
    "version": 3
   },
   "file_extension": ".py",
   "mimetype": "text/x-python",
   "name": "python",
   "nbconvert_exporter": "python",
   "pygments_lexer": "ipython3",
   "version": "3.8.5"
  }
 },
 "nbformat": 4,
 "nbformat_minor": 5
}
